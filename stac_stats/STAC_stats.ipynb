{
 "cells": [
  {
   "cell_type": "code",
   "execution_count": 124,
   "metadata": {
    "collapsed": true
   },
   "outputs": [],
   "source": [
    "import stats_table_functions as stats\n",
    "from collections import defaultdict, OrderedDict\n",
    "import pickle\n",
    "import numpy as np\n",
    "import pandas"
   ]
  },
  {
   "cell_type": "markdown",
   "metadata": {},
   "source": [
    "# Welcome to STAC stats! \n",
    "Here we are currently building functions to let you explore the situated and non-situated versions of the stac corpus.\n",
    "For each command, you can specify which part of the corpus you would like to apply it to. \n",
    "\n",
    "Example:\n",
    "\n",
    "stats.edu_count( ) returns the segment counts in a game. Run the command with \"all\" to see all games, the name of a game, e.g. \"pilot02\", to see one game, or a list of game names [\"pilot02\", \"pilot04\"]\n"
   ]
  },
  {
   "cell_type": "markdown",
   "metadata": {},
   "source": [
    "<font color='green'>\n",
    "### stats.edu_count( )</font>\n",
    "<break>\n",
    "takes either a list of games or 'all' to see the corpus. *Default='all'*\n"
   ]
  },
  {
   "cell_type": "code",
   "execution_count": null,
   "metadata": {
    "collapsed": true
   },
   "outputs": [],
   "source": [
    "#stats.edu_count('all')"
   ]
  },
  {
   "cell_type": "code",
   "execution_count": null,
   "metadata": {
    "collapsed": true
   },
   "outputs": [],
   "source": [
    "#stats.edu_count(['pilot02', 'pilot14'])"
   ]
  },
  {
   "cell_type": "code",
   "execution_count": null,
   "metadata": {
    "collapsed": true
   },
   "outputs": [],
   "source": [
    "#stats.edu_count('pilot02')"
   ]
  },
  {
   "cell_type": "markdown",
   "metadata": {},
   "source": [
    "<font color='green'> \n",
    "### stats.relation_count( )</font>\n",
    "<break>\n",
    "Takes 3 parameters:\n",
    "1. games: either a list of games or 'all' -*OR*- 'aggregate' to see aggregated counts between situated and spect versions. *Default='all'*\n",
    "2. version: 'situated', 'spect' or 'both', *default='both'*\n",
    "3. relation types: a list of types or 'all, *default='all'*"
   ]
  },
  {
   "cell_type": "code",
   "execution_count": null,
   "metadata": {
    "collapsed": true
   },
   "outputs": [],
   "source": [
    "#stats.relation_count('aggregate', 'both', ['Question-answer_pair', 'Comment'])"
   ]
  },
  {
   "cell_type": "code",
   "execution_count": null,
   "metadata": {
    "collapsed": true
   },
   "outputs": [],
   "source": [
    "#stats.relation_count('aggregate', 'both', 'all')"
   ]
  },
  {
   "cell_type": "code",
   "execution_count": null,
   "metadata": {
    "collapsed": true
   },
   "outputs": [],
   "source": []
  },
  {
   "cell_type": "markdown",
   "metadata": {},
   "source": [
    "<font color='green'> \n",
    "### stats.relation_endpoints( )</font>\n",
    "<break>\n",
    "Takes 4 parameters:\n",
    " 1. games: either a list of games or 'all',  *default='all'*\n",
    " 2. version: 'situated', 'spect' or 'both', *default='both'*\n",
    " 3. endpoints: a list of endpoint tuples, e.g. [('cdu', 'edu'), ('edu', edu')], or 'all' for all combinations. *Default = 'all'*\n",
    " 4. relation types: a list of types, e.g. ['Contrast', 'Result'], or 'all'. *Default='all'*"
   ]
  },
  {
   "cell_type": "code",
   "execution_count": null,
   "metadata": {
    "collapsed": true
   },
   "outputs": [],
   "source": [
    "#stats.relation_endpoints('all', 'both', 'all', 'all')"
   ]
  },
  {
   "cell_type": "markdown",
   "metadata": {},
   "source": [
    "### dialogues\n",
    "game -- subdoc -- span_end"
   ]
  },
  {
   "cell_type": "code",
   "execution_count": null,
   "metadata": {
    "collapsed": true
   },
   "outputs": [],
   "source": []
  },
  {
   "cell_type": "code",
   "execution_count": 3,
   "metadata": {
    "collapsed": true
   },
   "outputs": [],
   "source": [
    "# stats.tables.dlgs_situ[:10]\n",
    "# subset = stats.tables.dlgs_situ[['global_id', 'doc', 'subdoc', 'span_beg', 'span_end']]\n",
    "\n",
    "pkl_file = open('dlgs_situ.pkl', 'rb')\n",
    "dlgs_situ = pickle.load(pkl_file)\n",
    "pkl_file.close()\n",
    "\n",
    "pkl_file = open('dlgs_spect.pkl', 'rb')\n",
    "dlgs_spect = pickle.load(pkl_file)\n",
    "pkl_file.close()"
   ]
  },
  {
   "cell_type": "code",
   "execution_count": 4,
   "metadata": {
    "collapsed": true
   },
   "outputs": [],
   "source": [
    "dlgs_situ[:10]\n",
    "subset = dlgs_situ[['global_id', 'doc', 'subdoc', 'span_beg', 'span_end']]\n"
   ]
  },
  {
   "cell_type": "code",
   "execution_count": 5,
   "metadata": {
    "collapsed": true
   },
   "outputs": [],
   "source": [
    "tuples = [tuple(x) for x in subset.values]"
   ]
  },
  {
   "cell_type": "code",
   "execution_count": 6,
   "metadata": {},
   "outputs": [
    {
     "data": {
      "text/plain": [
       "[('s2-league5-game1_01_stacutil_1496243576',\n",
       "  's2-league5-game1',\n",
       "  '01',\n",
       "  1,\n",
       "  2655),\n",
       " ('s2-league5-game1_01_stac_1413793066', 's2-league5-game1', '01', 4724, 5163),\n",
       " ('s2-league5-game1_01_stac_1413793110', 's2-league5-game1', '01', 5164, 6205)]"
      ]
     },
     "execution_count": 6,
     "metadata": {},
     "output_type": "execute_result"
    }
   ],
   "source": [
    "tuples[:3]"
   ]
  },
  {
   "cell_type": "markdown",
   "metadata": {},
   "source": [
    "game --subdoc -- dialgoue -- turn -- seg id, type, text"
   ]
  },
  {
   "cell_type": "code",
   "execution_count": 7,
   "metadata": {
    "collapsed": true
   },
   "outputs": [],
   "source": [
    "dialogue_dict = {}\n",
    "for t in tuples:\n",
    "    if t[1] in dialogue_dict.keys():\n",
    "        if t[2] in dialogue_dict[t[1]].keys():\n",
    "            dialogue_dict[t[1]][t[2]][(t[3], t[4])] = t[0]\n",
    "        else:\n",
    "            dialogue_dict[t[1]][t[2]] = {}\n",
    "            dialogue_dict[t[1]][t[2]][(t[3], t[4])] = t[0]\n",
    "    else:\n",
    "        dialogue_dict[t[1]] = {}\n",
    "        dialogue_dict[t[1]][t[2]] = {}\n",
    "        dialogue_dict[t[1]][t[2]][(t[3], t[4])] = t[0]"
   ]
  },
  {
   "cell_type": "code",
   "execution_count": 25,
   "metadata": {},
   "outputs": [
    {
     "data": {
      "text/plain": [
       "['s2-league5-game1', 's1-league1-game2']"
      ]
     },
     "execution_count": 25,
     "metadata": {},
     "output_type": "execute_result"
    }
   ],
   "source": [
    "dialogue_dict.keys()"
   ]
  },
  {
   "cell_type": "code",
   "execution_count": 9,
   "metadata": {},
   "outputs": [
    {
     "data": {
      "text/plain": [
       "'s2-league5-game1_01_stacutil_1496243576'"
      ]
     },
     "execution_count": 9,
     "metadata": {},
     "output_type": "execute_result"
    }
   ],
   "source": [
    "dialogue_dict['s2-league5-game1']['01'][(1, 2655)]"
   ]
  },
  {
   "cell_type": "code",
   "execution_count": null,
   "metadata": {
    "collapsed": true
   },
   "outputs": [],
   "source": [
    "#stats.tables.rels_situ.loc[stats.tables.rels_situ['type'] == 'Anaphora'][:5]"
   ]
  },
  {
   "cell_type": "markdown",
   "metadata": {},
   "source": [
    "# cdu components dict\n",
    "game -- subdoc -- schema_id -- [member list]"
   ]
  },
  {
   "cell_type": "code",
   "execution_count": null,
   "metadata": {
    "collapsed": true
   },
   "outputs": [],
   "source": [
    "comps_slice = stats.tables.schm_mbrs_situ[['member_id', 'schema_id']]"
   ]
  },
  {
   "cell_type": "code",
   "execution_count": null,
   "metadata": {
    "collapsed": true
   },
   "outputs": [],
   "source": [
    "comps = [tuple(x) for x in comps_slice.values]"
   ]
  },
  {
   "cell_type": "code",
   "execution_count": null,
   "metadata": {
    "collapsed": true
   },
   "outputs": [],
   "source": [
    "comps[:2]"
   ]
  },
  {
   "cell_type": "code",
   "execution_count": null,
   "metadata": {
    "collapsed": true
   },
   "outputs": [],
   "source": [
    "cdu_comps_dict = {}\n",
    "for s in comps:\n",
    "    #get game name and subdoc from schema id\n",
    "    game, subdoc = s[1].split('_')[:2]\n",
    "    #check if game in dict\n",
    "    if game in cdu_comps_dict.keys():\n",
    "        if subdoc in cdu_comps_dict[game].keys():\n",
    "            cdu_comps_dict[game][subdoc][s[1]].append(s[0])\n",
    "        else:\n",
    "            cdu_comps_dict[game][subdoc] = defaultdict(list)\n",
    "            cdu_comps_dict[game][subdoc][s[1]].append(s[0])\n",
    "    else:\n",
    "        cdu_comps_dict[game] = {}\n",
    "        cdu_comps_dict[game][subdoc] = defaultdict(list)\n",
    "        cdu_comps_dict[game][subdoc][s[1]].append(s[0])\n"
   ]
  },
  {
   "cell_type": "code",
   "execution_count": null,
   "metadata": {
    "collapsed": true
   },
   "outputs": [],
   "source": [
    "cdu_comps_dict['pilot14']['02']['pilot14_02_stacnl_1490872151']"
   ]
  },
  {
   "cell_type": "code",
   "execution_count": null,
   "metadata": {
    "collapsed": true
   },
   "outputs": [],
   "source": [
    "output = open('cdu_comps.pkl', 'wb')\n",
    "pickle.dump(cdu_comps_dict, output)\n",
    "output.close()"
   ]
  },
  {
   "cell_type": "markdown",
   "metadata": {},
   "source": [
    "# cdu rels dict\n",
    "\n",
    "game--subdoc--cdu_id--(component segements)--((relation, source, target), (relation, source, target))\n"
   ]
  },
  {
   "cell_type": "code",
   "execution_count": null,
   "metadata": {
    "collapsed": true
   },
   "outputs": [],
   "source": [
    "cdu_slice = stats.tables.rels_situ.loc[((stats.tables.rels_situ['source_type'] == 'Complex_discourse_unit') | (stats.tables.rels_situ['target_type'] == 'Complex_discourse_unit')) & (stats.tables.rels_situ['stage'] == 'discourse')][['doc', 'subdoc', 'type', 'source', 'target']]"
   ]
  },
  {
   "cell_type": "code",
   "execution_count": null,
   "metadata": {
    "collapsed": true
   },
   "outputs": [],
   "source": [
    "#cdu_slice\n",
    "cdu_rels = [tuple(x) for x in cdu_slice.values]"
   ]
  },
  {
   "cell_type": "code",
   "execution_count": null,
   "metadata": {
    "collapsed": true
   },
   "outputs": [],
   "source": [
    "cdu_rels[:2]"
   ]
  },
  {
   "cell_type": "code",
   "execution_count": null,
   "metadata": {
    "collapsed": true
   },
   "outputs": [],
   "source": [
    "cdu_rels_dict = {}\n",
    "for s in cdu_rels:\n",
    "    #check if game in dict\n",
    "    if s[0] in cdu_rels_dict.keys():\n",
    "        cdu_rels_dict[s[0]][s[1]].append((s[2], s[3], s[4]))\n",
    "    else:\n",
    "        #add list dict for relations\n",
    "        cdu_rels_dict[s[0]] = defaultdict(list)\n",
    "        #add the relation info\n",
    "        cdu_rels_dict[s[0]][s[1]].append((s[2], s[3], s[4]))"
   ]
  },
  {
   "cell_type": "code",
   "execution_count": null,
   "metadata": {
    "collapsed": true
   },
   "outputs": [],
   "source": [
    "cdu_rels_dict['pilot14']['01'][0]"
   ]
  },
  {
   "cell_type": "code",
   "execution_count": null,
   "metadata": {
    "collapsed": true
   },
   "outputs": [],
   "source": [
    "#cdu_rels_dict\n",
    "output = open('cdu_rels.pkl', 'wb')\n",
    "pickle.dump(cdu_rels_dict, output)\n",
    "output.close()"
   ]
  },
  {
   "cell_type": "markdown",
   "metadata": {},
   "source": [
    "# relations dict\n",
    "\n",
    "game--subdoc--(relation, seg1, seg2)"
   ]
  },
  {
   "cell_type": "code",
   "execution_count": null,
   "metadata": {
    "collapsed": true
   },
   "outputs": [],
   "source": [
    "rel_slice = stats.tables.rels_situ.loc[(stats.tables.rels_situ['source_type'] != 'Complex_discourse_unit') & (stats.tables.rels_situ['target_type'] != 'Complex_discourse_unit') & (stats.tables.rels_situ['stage'] == 'discourse')][['doc', 'subdoc', 'type', 'source', 'target']]"
   ]
  },
  {
   "cell_type": "code",
   "execution_count": null,
   "metadata": {
    "collapsed": true
   },
   "outputs": [],
   "source": [
    "rels = [tuple(x) for x in rel_slice.values]"
   ]
  },
  {
   "cell_type": "code",
   "execution_count": null,
   "metadata": {
    "collapsed": true
   },
   "outputs": [],
   "source": [
    "rels[:2]"
   ]
  },
  {
   "cell_type": "code",
   "execution_count": null,
   "metadata": {
    "collapsed": true
   },
   "outputs": [],
   "source": []
  },
  {
   "cell_type": "code",
   "execution_count": null,
   "metadata": {
    "collapsed": true
   },
   "outputs": [],
   "source": [
    "rels_dict = {}\n",
    "for s in rels:\n",
    "    #check if game in dict\n",
    "    if s[0] in rels_dict.keys():\n",
    "        rels_dict[s[0]][s[1]].append((s[2], s[3], s[4]))\n",
    "    else:\n",
    "        #add list dict for relations\n",
    "        rels_dict[s[0]] = defaultdict(list)\n",
    "        #add the relation info\n",
    "        rels_dict[s[0]][s[1]].append((s[2], s[3], s[4]))"
   ]
  },
  {
   "cell_type": "code",
   "execution_count": null,
   "metadata": {
    "collapsed": true
   },
   "outputs": [],
   "source": [
    "for r in rels_dict['pilot14']['01']:\n",
    "    print(r[0])"
   ]
  },
  {
   "cell_type": "code",
   "execution_count": null,
   "metadata": {
    "collapsed": true
   },
   "outputs": [],
   "source": [
    "output = open('rels.pkl', 'wb')\n",
    "pickle.dump(rels_dict, output)\n",
    "output.close()"
   ]
  },
  {
   "cell_type": "markdown",
   "metadata": {},
   "source": [
    "# nodes dict\n",
    "game --subdoc -- dialgoue -- turn -- seg id, type, text\n",
    "{ pilot_14 : {'01' : { dialogue : { 'turn 30' : [('pilot14_01_mabrusan_1386857336420', 'Segment', u'well build sts'), ('pilot14_01_mabrusan_1386857354520', 'Segment', u'or put done')]}}}}\n",
    "\n"
   ]
  },
  {
   "cell_type": "code",
   "execution_count": 10,
   "metadata": {
    "collapsed": true
   },
   "outputs": [],
   "source": [
    "# def turn_transform(turn_string):\n",
    "#     if '.' in turn_string:\n",
    "#         turn_string = turn_string.split('.')\n",
    "#         turn_string = turn_string[0] + '.' + ''.join(t for t in turn_string[1:])\n",
    "#     float_turn = float(turn_string)\n",
    "#     return float_turn\n",
    "\n",
    "pkl_file = open('segs_situ.pkl', 'rb')\n",
    "segs_situ = pickle.load(pkl_file)\n",
    "pkl_file.close()\n",
    "\n",
    "pkl_file = open('segs_spect.pkl', 'rb')\n",
    "segs_spect = pickle.load(pkl_file)\n",
    "pkl_file.close()"
   ]
  },
  {
   "cell_type": "code",
   "execution_count": 11,
   "metadata": {
    "collapsed": true
   },
   "outputs": [],
   "source": [
    "#segs_situ[:10]"
   ]
  },
  {
   "cell_type": "code",
   "execution_count": 85,
   "metadata": {
    "collapsed": true
   },
   "outputs": [],
   "source": [
    "seg_slice = segs_situ[['global_id', 'doc', 'subdoc', 'type', 'text', 'turn_id', 'span_end']]"
   ]
  },
  {
   "cell_type": "code",
   "execution_count": 86,
   "metadata": {
    "collapsed": true
   },
   "outputs": [],
   "source": [
    "segs = sorted([list(x) for x in seg_slice.values], key=lambda x: (x[1], x[2], x[6]))"
   ]
  },
  {
   "cell_type": "code",
   "execution_count": 87,
   "metadata": {},
   "outputs": [
    {
     "data": {
      "text/plain": [
       "[['s1-league1-game2_01_stac_1468416187',\n",
       "  's1-league1-game2',\n",
       "  '01',\n",
       "  'NonplayerSegment',\n",
       "  u'william joined the game.',\n",
       "  '0.0.1',\n",
       "  38],\n",
       " ['s1-league1-game2_01_stac_1468416190',\n",
       "  's1-league1-game2',\n",
       "  '01',\n",
       "  'NonplayerSegment',\n",
       "  u'william sat down at seat 2.',\n",
       "  '0.0.2',\n",
       "  79]]"
      ]
     },
     "execution_count": 87,
     "metadata": {},
     "output_type": "execute_result"
    }
   ],
   "source": [
    "segs[:2]"
   ]
  },
  {
   "cell_type": "code",
   "execution_count": 94,
   "metadata": {
    "collapsed": true
   },
   "outputs": [],
   "source": [
    "#USE dialgoue_dict to add dialogue id  to segs list\n",
    "#transform turn numbers into integer 0-N\n",
    "#transform dialogue number into integers 0-N\n",
    "n = 0\n",
    "dialogue_n = 0\n",
    "last = None\n",
    "di_last = None\n",
    "for s in segs:\n",
    "    if s[5] == last:\n",
    "        last = s[5]\n",
    "        s[5] = n\n",
    "    else:\n",
    "        n += 1\n",
    "        last = s[5]\n",
    "        s[5] = n\n",
    "    for pair in dialogue_dict[s[1]][s[2]].keys():\n",
    "        if pair[0] < s[6] <= pair[1]:\n",
    "            di_id = dialogue_dict[s[1]][s[2]][pair]\n",
    "            if di_id == di_last:\n",
    "                di_last = di_id\n",
    "                s.append(dialogue_n)\n",
    "            else:\n",
    "                dialogue_n += 1\n",
    "                di_last = di_id\n",
    "                s.append(dialogue_n)\n",
    "                \n",
    "            #s.append(dialogue_dict[s[1]][s[2]][pair])"
   ]
  },
  {
   "cell_type": "code",
   "execution_count": 224,
   "metadata": {},
   "outputs": [
    {
     "data": {
      "text/plain": [
       "['s1-league1-game2_01_stac_1468416187',\n",
       " 's1-league1-game2',\n",
       " '01',\n",
       " 'NonplayerSegment',\n",
       " u'william joined the game.',\n",
       " 1,\n",
       " 38,\n",
       " 1,\n",
       " 1]"
      ]
     },
     "execution_count": 224,
     "metadata": {},
     "output_type": "execute_result"
    }
   ],
   "source": [
    "segs[0]"
   ]
  },
  {
   "cell_type": "code",
   "execution_count": null,
   "metadata": {
    "collapsed": true
   },
   "outputs": [],
   "source": [
    "#situ_df = pandas.DataFrame([[s[0], s[1], s[2]], s[8]], columns = ['seg_id', 'game', 'subdoc', 'dialogue'])"
   ]
  },
  {
   "cell_type": "code",
   "execution_count": 101,
   "metadata": {},
   "outputs": [],
   "source": [
    "#print([[s[0], s[1], s[2], s[8]] for s in segs])"
   ]
  },
  {
   "cell_type": "code",
   "execution_count": 167,
   "metadata": {
    "collapsed": true
   },
   "outputs": [],
   "source": [
    "segs_df = pandas.DataFrame([[s[0], s[1], s[3], s[6], s[7]] for s in segs], columns=['seg_id', 'game','type', 'span', 'dialogue'])"
   ]
  },
  {
   "cell_type": "code",
   "execution_count": 169,
   "metadata": {},
   "outputs": [
    {
     "data": {
      "text/html": [
       "<div>\n",
       "<style>\n",
       "    .dataframe thead tr:only-child th {\n",
       "        text-align: right;\n",
       "    }\n",
       "\n",
       "    .dataframe thead th {\n",
       "        text-align: left;\n",
       "    }\n",
       "\n",
       "    .dataframe tbody tr th {\n",
       "        vertical-align: top;\n",
       "    }\n",
       "</style>\n",
       "<table border=\"1\" class=\"dataframe\">\n",
       "  <thead>\n",
       "    <tr style=\"text-align: right;\">\n",
       "      <th></th>\n",
       "      <th>seg_id</th>\n",
       "      <th>game</th>\n",
       "      <th>type</th>\n",
       "      <th>span</th>\n",
       "      <th>dialogue</th>\n",
       "    </tr>\n",
       "  </thead>\n",
       "  <tbody>\n",
       "    <tr>\n",
       "      <th>0</th>\n",
       "      <td>s1-league1-game2_01_stac_1468416187</td>\n",
       "      <td>s1-league1-game2</td>\n",
       "      <td>NonplayerSegment</td>\n",
       "      <td>38</td>\n",
       "      <td>1</td>\n",
       "    </tr>\n",
       "    <tr>\n",
       "      <th>988</th>\n",
       "      <td>s2-league5-game1_01_stac_1496239934</td>\n",
       "      <td>s2-league5-game1</td>\n",
       "      <td>NonplayerSegment</td>\n",
       "      <td>38</td>\n",
       "      <td>64</td>\n",
       "    </tr>\n",
       "    <tr>\n",
       "      <th>162</th>\n",
       "      <td>s1-league1-game2_02_stac_1468416639</td>\n",
       "      <td>s1-league1-game2</td>\n",
       "      <td>NonplayerSegment</td>\n",
       "      <td>56</td>\n",
       "      <td>12</td>\n",
       "    </tr>\n",
       "    <tr>\n",
       "      <th>451</th>\n",
       "      <td>s1-league1-game2_04_stac_1468416195</td>\n",
       "      <td>s1-league1-game2</td>\n",
       "      <td>NonplayerSegment</td>\n",
       "      <td>57</td>\n",
       "      <td>35</td>\n",
       "    </tr>\n",
       "    <tr>\n",
       "      <th>1232</th>\n",
       "      <td>s2-league5-game1_02_stac_1496239934</td>\n",
       "      <td>s2-league5-game1</td>\n",
       "      <td>NonplayerSegment</td>\n",
       "      <td>57</td>\n",
       "      <td>76</td>\n",
       "    </tr>\n",
       "  </tbody>\n",
       "</table>\n",
       "</div>"
      ],
      "text/plain": [
       "                                   seg_id              game              type  \\\n",
       "0     s1-league1-game2_01_stac_1468416187  s1-league1-game2  NonplayerSegment   \n",
       "988   s2-league5-game1_01_stac_1496239934  s2-league5-game1  NonplayerSegment   \n",
       "162   s1-league1-game2_02_stac_1468416639  s1-league1-game2  NonplayerSegment   \n",
       "451   s1-league1-game2_04_stac_1468416195  s1-league1-game2  NonplayerSegment   \n",
       "1232  s2-league5-game1_02_stac_1496239934  s2-league5-game1  NonplayerSegment   \n",
       "\n",
       "      span  dialogue  \n",
       "0       38         1  \n",
       "988     38        64  \n",
       "162     56        12  \n",
       "451     57        35  \n",
       "1232    57        76  "
      ]
     },
     "execution_count": 169,
     "metadata": {},
     "output_type": "execute_result"
    }
   ],
   "source": [
    "segs_df.sort_values(['span'])[:5]"
   ]
  },
  {
   "cell_type": "code",
   "execution_count": 59,
   "metadata": {},
   "outputs": [],
   "source": [
    "#segs_df[segs_df['type'] == 'Segment'].groupby(['dialogue'])['span'].max()"
   ]
  },
  {
   "cell_type": "code",
   "execution_count": 80,
   "metadata": {},
   "outputs": [],
   "source": [
    "# segs_df.groupby('dialogue').agg({'span': 'max'})\n",
    "# & segs_df['turn'].idxmax()] \n",
    "gb = segs_df[segs_df['type'] == 'Segment'].groupby(['dialogue'])['seg_id']"
   ]
  },
  {
   "cell_type": "code",
   "execution_count": 81,
   "metadata": {},
   "outputs": [],
   "source": [
    "maxes = gb.max()"
   ]
  },
  {
   "cell_type": "code",
   "execution_count": 83,
   "metadata": {},
   "outputs": [],
   "source": [
    "spect_table = maxes.reset_index()"
   ]
  },
  {
   "cell_type": "code",
   "execution_count": 84,
   "metadata": {},
   "outputs": [
    {
     "data": {
      "text/html": [
       "<div>\n",
       "<style>\n",
       "    .dataframe thead tr:only-child th {\n",
       "        text-align: right;\n",
       "    }\n",
       "\n",
       "    .dataframe thead th {\n",
       "        text-align: left;\n",
       "    }\n",
       "\n",
       "    .dataframe tbody tr th {\n",
       "        vertical-align: top;\n",
       "    }\n",
       "</style>\n",
       "<table border=\"1\" class=\"dataframe\">\n",
       "  <thead>\n",
       "    <tr style=\"text-align: right;\">\n",
       "      <th></th>\n",
       "      <th>dialogue</th>\n",
       "      <th>seg_id</th>\n",
       "    </tr>\n",
       "  </thead>\n",
       "  <tbody>\n",
       "    <tr>\n",
       "      <th>0</th>\n",
       "      <td>1.0</td>\n",
       "      <td>s1-league1-game2_01_stac_1360444616</td>\n",
       "    </tr>\n",
       "    <tr>\n",
       "      <th>1</th>\n",
       "      <td>2.0</td>\n",
       "      <td>s1-league1-game2_02_stac_1360184616</td>\n",
       "    </tr>\n",
       "    <tr>\n",
       "      <th>2</th>\n",
       "      <td>3.0</td>\n",
       "      <td>s1-league1-game2_03_stac_1360374616</td>\n",
       "    </tr>\n",
       "    <tr>\n",
       "      <th>3</th>\n",
       "      <td>4.0</td>\n",
       "      <td>s1-league1-game2_04_stac_1360174617</td>\n",
       "    </tr>\n",
       "    <tr>\n",
       "      <th>4</th>\n",
       "      <td>5.0</td>\n",
       "      <td>s1-league1-game2_04_stac_1360444618</td>\n",
       "    </tr>\n",
       "    <tr>\n",
       "      <th>5</th>\n",
       "      <td>6.0</td>\n",
       "      <td>s1-league1-game2_04_stac_1360534617</td>\n",
       "    </tr>\n",
       "    <tr>\n",
       "      <th>6</th>\n",
       "      <td>7.0</td>\n",
       "      <td>s1-league1-game2_05_stac_1360244617</td>\n",
       "    </tr>\n",
       "    <tr>\n",
       "      <th>7</th>\n",
       "      <td>8.0</td>\n",
       "      <td>s1-league1-game2_06_stac_1360114617</td>\n",
       "    </tr>\n",
       "    <tr>\n",
       "      <th>8</th>\n",
       "      <td>9.0</td>\n",
       "      <td>s1-league1-game2_06_stac_1360224617</td>\n",
       "    </tr>\n",
       "    <tr>\n",
       "      <th>9</th>\n",
       "      <td>10.0</td>\n",
       "      <td>s1-league1-game2_07_stac_1360244617</td>\n",
       "    </tr>\n",
       "    <tr>\n",
       "      <th>10</th>\n",
       "      <td>11.0</td>\n",
       "      <td>s1-league1-game2_07_stac_1360324617</td>\n",
       "    </tr>\n",
       "    <tr>\n",
       "      <th>11</th>\n",
       "      <td>12.0</td>\n",
       "      <td>s1-league1-game2_08_stac_1360154618</td>\n",
       "    </tr>\n",
       "    <tr>\n",
       "      <th>12</th>\n",
       "      <td>13.0</td>\n",
       "      <td>s2-league5-game1_01_stac_1413793207</td>\n",
       "    </tr>\n",
       "    <tr>\n",
       "      <th>13</th>\n",
       "      <td>14.0</td>\n",
       "      <td>s2-league5-game1_02_stac_1413793015</td>\n",
       "    </tr>\n",
       "    <tr>\n",
       "      <th>14</th>\n",
       "      <td>15.0</td>\n",
       "      <td>s2-league5-game1_02_stac_1413793042</td>\n",
       "    </tr>\n",
       "    <tr>\n",
       "      <th>15</th>\n",
       "      <td>16.0</td>\n",
       "      <td>s2-league5-game1_02_stac_1413793085</td>\n",
       "    </tr>\n",
       "    <tr>\n",
       "      <th>16</th>\n",
       "      <td>17.0</td>\n",
       "      <td>s2-league5-game1_02_stac_1413793178</td>\n",
       "    </tr>\n",
       "    <tr>\n",
       "      <th>17</th>\n",
       "      <td>18.0</td>\n",
       "      <td>s2-league5-game1_02_stac_1413793211</td>\n",
       "    </tr>\n",
       "    <tr>\n",
       "      <th>18</th>\n",
       "      <td>19.0</td>\n",
       "      <td>s2-league5-game1_02_stac_1413793214</td>\n",
       "    </tr>\n",
       "  </tbody>\n",
       "</table>\n",
       "</div>"
      ],
      "text/plain": [
       "    dialogue                               seg_id\n",
       "0        1.0  s1-league1-game2_01_stac_1360444616\n",
       "1        2.0  s1-league1-game2_02_stac_1360184616\n",
       "2        3.0  s1-league1-game2_03_stac_1360374616\n",
       "3        4.0  s1-league1-game2_04_stac_1360174617\n",
       "4        5.0  s1-league1-game2_04_stac_1360444618\n",
       "5        6.0  s1-league1-game2_04_stac_1360534617\n",
       "6        7.0  s1-league1-game2_05_stac_1360244617\n",
       "7        8.0  s1-league1-game2_06_stac_1360114617\n",
       "8        9.0  s1-league1-game2_06_stac_1360224617\n",
       "9       10.0  s1-league1-game2_07_stac_1360244617\n",
       "10      11.0  s1-league1-game2_07_stac_1360324617\n",
       "11      12.0  s1-league1-game2_08_stac_1360154618\n",
       "12      13.0  s2-league5-game1_01_stac_1413793207\n",
       "13      14.0  s2-league5-game1_02_stac_1413793015\n",
       "14      15.0  s2-league5-game1_02_stac_1413793042\n",
       "15      16.0  s2-league5-game1_02_stac_1413793085\n",
       "16      17.0  s2-league5-game1_02_stac_1413793178\n",
       "17      18.0  s2-league5-game1_02_stac_1413793211\n",
       "18      19.0  s2-league5-game1_02_stac_1413793214"
      ]
     },
     "execution_count": 84,
     "metadata": {},
     "output_type": "execute_result"
    }
   ],
   "source": [
    "spect_table"
   ]
  },
  {
   "cell_type": "code",
   "execution_count": 104,
   "metadata": {},
   "outputs": [],
   "source": [
    "#situ_df = pandas.DataFrame([[s[0], s[1], s[2], s[8]] for s in segs], columns = ['seg_id', 'game', 'subdoc', 'situ_dialogue'])"
   ]
  },
  {
   "cell_type": "code",
   "execution_count": 153,
   "metadata": {},
   "outputs": [],
   "source": [
    "situ_df = pandas.DataFrame([[s[0], s[1], s[2], s[3], s[6], s[8]] for s in segs], columns=['seg_id', 'game', 'subdoc', 'type', 'span', 'dialogue_situ'])"
   ]
  },
  {
   "cell_type": "code",
   "execution_count": 154,
   "metadata": {},
   "outputs": [
    {
     "data": {
      "text/html": [
       "<div>\n",
       "<style>\n",
       "    .dataframe thead tr:only-child th {\n",
       "        text-align: right;\n",
       "    }\n",
       "\n",
       "    .dataframe thead th {\n",
       "        text-align: left;\n",
       "    }\n",
       "\n",
       "    .dataframe tbody tr th {\n",
       "        vertical-align: top;\n",
       "    }\n",
       "</style>\n",
       "<table border=\"1\" class=\"dataframe\">\n",
       "  <thead>\n",
       "    <tr style=\"text-align: right;\">\n",
       "      <th></th>\n",
       "      <th>seg_id</th>\n",
       "      <th>game</th>\n",
       "      <th>subdoc</th>\n",
       "      <th>type</th>\n",
       "      <th>span</th>\n",
       "      <th>dialogue_situ</th>\n",
       "    </tr>\n",
       "  </thead>\n",
       "  <tbody>\n",
       "    <tr>\n",
       "      <th>0</th>\n",
       "      <td>s1-league1-game2_01_stac_1468416187</td>\n",
       "      <td>s1-league1-game2</td>\n",
       "      <td>01</td>\n",
       "      <td>NonplayerSegment</td>\n",
       "      <td>38</td>\n",
       "      <td>1</td>\n",
       "    </tr>\n",
       "    <tr>\n",
       "      <th>1</th>\n",
       "      <td>s1-league1-game2_01_stac_1468416190</td>\n",
       "      <td>s1-league1-game2</td>\n",
       "      <td>01</td>\n",
       "      <td>NonplayerSegment</td>\n",
       "      <td>79</td>\n",
       "      <td>1</td>\n",
       "    </tr>\n",
       "    <tr>\n",
       "      <th>2</th>\n",
       "      <td>s1-league1-game2_01_stac_1468416193</td>\n",
       "      <td>s1-league1-game2</td>\n",
       "      <td>01</td>\n",
       "      <td>NonplayerSegment</td>\n",
       "      <td>106</td>\n",
       "      <td>1</td>\n",
       "    </tr>\n",
       "    <tr>\n",
       "      <th>3</th>\n",
       "      <td>s1-league1-game2_01_stac_1468416196</td>\n",
       "      <td>s1-league1-game2</td>\n",
       "      <td>01</td>\n",
       "      <td>NonplayerSegment</td>\n",
       "      <td>149</td>\n",
       "      <td>1</td>\n",
       "    </tr>\n",
       "    <tr>\n",
       "      <th>4</th>\n",
       "      <td>s1-league1-game2_01_stac_1468416199</td>\n",
       "      <td>s1-league1-game2</td>\n",
       "      <td>01</td>\n",
       "      <td>NonplayerSegment</td>\n",
       "      <td>195</td>\n",
       "      <td>1</td>\n",
       "    </tr>\n",
       "    <tr>\n",
       "      <th>5</th>\n",
       "      <td>s1-league1-game2_01_stac_1359744616</td>\n",
       "      <td>s1-league1-game2</td>\n",
       "      <td>01</td>\n",
       "      <td>Segment</td>\n",
       "      <td>218</td>\n",
       "      <td>1</td>\n",
       "    </tr>\n",
       "    <tr>\n",
       "      <th>6</th>\n",
       "      <td>s1-league1-game2_01_stac_1359754616</td>\n",
       "      <td>s1-league1-game2</td>\n",
       "      <td>01</td>\n",
       "      <td>Segment</td>\n",
       "      <td>246</td>\n",
       "      <td>1</td>\n",
       "    </tr>\n",
       "    <tr>\n",
       "      <th>7</th>\n",
       "      <td>s1-league1-game2_01_stac_1468416208</td>\n",
       "      <td>s1-league1-game2</td>\n",
       "      <td>01</td>\n",
       "      <td>NonplayerSegment</td>\n",
       "      <td>288</td>\n",
       "      <td>1</td>\n",
       "    </tr>\n",
       "    <tr>\n",
       "      <th>8</th>\n",
       "      <td>s1-league1-game2_01_stac_1359764616</td>\n",
       "      <td>s1-league1-game2</td>\n",
       "      <td>01</td>\n",
       "      <td>Segment</td>\n",
       "      <td>331</td>\n",
       "      <td>1</td>\n",
       "    </tr>\n",
       "    <tr>\n",
       "      <th>9</th>\n",
       "      <td>s1-league1-game2_01_stac_1468416214</td>\n",
       "      <td>s1-league1-game2</td>\n",
       "      <td>01</td>\n",
       "      <td>NonplayerSegment</td>\n",
       "      <td>376</td>\n",
       "      <td>1</td>\n",
       "    </tr>\n",
       "  </tbody>\n",
       "</table>\n",
       "</div>"
      ],
      "text/plain": [
       "                                seg_id              game subdoc  \\\n",
       "0  s1-league1-game2_01_stac_1468416187  s1-league1-game2     01   \n",
       "1  s1-league1-game2_01_stac_1468416190  s1-league1-game2     01   \n",
       "2  s1-league1-game2_01_stac_1468416193  s1-league1-game2     01   \n",
       "3  s1-league1-game2_01_stac_1468416196  s1-league1-game2     01   \n",
       "4  s1-league1-game2_01_stac_1468416199  s1-league1-game2     01   \n",
       "5  s1-league1-game2_01_stac_1359744616  s1-league1-game2     01   \n",
       "6  s1-league1-game2_01_stac_1359754616  s1-league1-game2     01   \n",
       "7  s1-league1-game2_01_stac_1468416208  s1-league1-game2     01   \n",
       "8  s1-league1-game2_01_stac_1359764616  s1-league1-game2     01   \n",
       "9  s1-league1-game2_01_stac_1468416214  s1-league1-game2     01   \n",
       "\n",
       "               type  span  dialogue_situ  \n",
       "0  NonplayerSegment    38              1  \n",
       "1  NonplayerSegment    79              1  \n",
       "2  NonplayerSegment   106              1  \n",
       "3  NonplayerSegment   149              1  \n",
       "4  NonplayerSegment   195              1  \n",
       "5           Segment   218              1  \n",
       "6           Segment   246              1  \n",
       "7  NonplayerSegment   288              1  \n",
       "8           Segment   331              1  \n",
       "9  NonplayerSegment   376              1  "
      ]
     },
     "execution_count": 154,
     "metadata": {},
     "output_type": "execute_result"
    }
   ],
   "source": [
    "situ_df[:10]"
   ]
  },
  {
   "cell_type": "code",
   "execution_count": 176,
   "metadata": {},
   "outputs": [],
   "source": [
    "situ_range = range(1, situ_df['dialogue_situ'].max()+1)"
   ]
  },
  {
   "cell_type": "code",
   "execution_count": 155,
   "metadata": {
    "collapsed": true
   },
   "outputs": [],
   "source": [
    "sgb = situ_df[situ_df['type'] == 'Segment'].groupby(['dialogue_situ'])[['seg_id']]"
   ]
  },
  {
   "cell_type": "code",
   "execution_count": 156,
   "metadata": {
    "collapsed": true
   },
   "outputs": [],
   "source": [
    "smaxes = sgb.max()"
   ]
  },
  {
   "cell_type": "code",
   "execution_count": 157,
   "metadata": {
    "collapsed": true
   },
   "outputs": [],
   "source": [
    "situ_table = smaxes.reset_index()"
   ]
  },
  {
   "cell_type": "code",
   "execution_count": 159,
   "metadata": {},
   "outputs": [
    {
     "data": {
      "text/html": [
       "<div>\n",
       "<style>\n",
       "    .dataframe thead tr:only-child th {\n",
       "        text-align: right;\n",
       "    }\n",
       "\n",
       "    .dataframe thead th {\n",
       "        text-align: left;\n",
       "    }\n",
       "\n",
       "    .dataframe tbody tr th {\n",
       "        vertical-align: top;\n",
       "    }\n",
       "</style>\n",
       "<table border=\"1\" class=\"dataframe\">\n",
       "  <thead>\n",
       "    <tr style=\"text-align: right;\">\n",
       "      <th></th>\n",
       "      <th>dialogue_situ</th>\n",
       "      <th>seg_id</th>\n",
       "      <th>subdoc</th>\n",
       "    </tr>\n",
       "  </thead>\n",
       "  <tbody>\n",
       "    <tr>\n",
       "      <th>0</th>\n",
       "      <td>1</td>\n",
       "      <td>s1-league1-game2_01_stac_1360024616</td>\n",
       "      <td>01</td>\n",
       "    </tr>\n",
       "    <tr>\n",
       "      <th>1</th>\n",
       "      <td>5</td>\n",
       "      <td>s1-league1-game2_01_stac_1360224616</td>\n",
       "      <td>01</td>\n",
       "    </tr>\n",
       "    <tr>\n",
       "      <th>2</th>\n",
       "      <td>9</td>\n",
       "      <td>s1-league1-game2_01_stac_1360354616</td>\n",
       "      <td>01</td>\n",
       "    </tr>\n",
       "    <tr>\n",
       "      <th>3</th>\n",
       "      <td>10</td>\n",
       "      <td>s1-league1-game2_01_stac_1360444616</td>\n",
       "      <td>01</td>\n",
       "    </tr>\n",
       "    <tr>\n",
       "      <th>4</th>\n",
       "      <td>12</td>\n",
       "      <td>s1-league1-game2_02_stac_1468416660</td>\n",
       "      <td>02</td>\n",
       "    </tr>\n",
       "  </tbody>\n",
       "</table>\n",
       "</div>"
      ],
      "text/plain": [
       "   dialogue_situ                               seg_id subdoc\n",
       "0              1  s1-league1-game2_01_stac_1360024616     01\n",
       "1              5  s1-league1-game2_01_stac_1360224616     01\n",
       "2              9  s1-league1-game2_01_stac_1360354616     01\n",
       "3             10  s1-league1-game2_01_stac_1360444616     01\n",
       "4             12  s1-league1-game2_02_stac_1468416660     02"
      ]
     },
     "execution_count": 159,
     "metadata": {},
     "output_type": "execute_result"
    }
   ],
   "source": [
    "situ_table[:5]"
   ]
  },
  {
   "cell_type": "code",
   "execution_count": 200,
   "metadata": {
    "collapsed": true
   },
   "outputs": [],
   "source": [
    "merged_table = pandas.merge(situ_table, spect_table, on='seg_id', how='outer')"
   ]
  },
  {
   "cell_type": "code",
   "execution_count": 201,
   "metadata": {
    "collapsed": true
   },
   "outputs": [],
   "source": [
    "merged_table.fillna(0, inplace=True)"
   ]
  },
  {
   "cell_type": "code",
   "execution_count": 192,
   "metadata": {},
   "outputs": [],
   "source": [
    "merged_table.sort_values('dialogue', inplace=True)"
   ]
  },
  {
   "cell_type": "code",
   "execution_count": 202,
   "metadata": {},
   "outputs": [
    {
     "data": {
      "text/html": [
       "<div>\n",
       "<style>\n",
       "    .dataframe thead tr:only-child th {\n",
       "        text-align: right;\n",
       "    }\n",
       "\n",
       "    .dataframe thead th {\n",
       "        text-align: left;\n",
       "    }\n",
       "\n",
       "    .dataframe tbody tr th {\n",
       "        vertical-align: top;\n",
       "    }\n",
       "</style>\n",
       "<table border=\"1\" class=\"dataframe\">\n",
       "  <thead>\n",
       "    <tr style=\"text-align: right;\">\n",
       "      <th></th>\n",
       "      <th>dialogue_situ</th>\n",
       "      <th>seg_id</th>\n",
       "      <th>subdoc</th>\n",
       "      <th>dialogue</th>\n",
       "    </tr>\n",
       "  </thead>\n",
       "  <tbody>\n",
       "    <tr>\n",
       "      <th>0</th>\n",
       "      <td>1.0</td>\n",
       "      <td>s1-league1-game2_01_stac_1360024616</td>\n",
       "      <td>01</td>\n",
       "      <td>0.0</td>\n",
       "    </tr>\n",
       "    <tr>\n",
       "      <th>1</th>\n",
       "      <td>5.0</td>\n",
       "      <td>s1-league1-game2_01_stac_1360224616</td>\n",
       "      <td>01</td>\n",
       "      <td>0.0</td>\n",
       "    </tr>\n",
       "    <tr>\n",
       "      <th>2</th>\n",
       "      <td>9.0</td>\n",
       "      <td>s1-league1-game2_01_stac_1360354616</td>\n",
       "      <td>01</td>\n",
       "      <td>0.0</td>\n",
       "    </tr>\n",
       "    <tr>\n",
       "      <th>3</th>\n",
       "      <td>10.0</td>\n",
       "      <td>s1-league1-game2_01_stac_1360444616</td>\n",
       "      <td>01</td>\n",
       "      <td>1.0</td>\n",
       "    </tr>\n",
       "    <tr>\n",
       "      <th>4</th>\n",
       "      <td>12.0</td>\n",
       "      <td>s1-league1-game2_02_stac_1468416660</td>\n",
       "      <td>02</td>\n",
       "      <td>0.0</td>\n",
       "    </tr>\n",
       "    <tr>\n",
       "      <th>5</th>\n",
       "      <td>13.0</td>\n",
       "      <td>s1-league1-game2_02_stac_1359934616</td>\n",
       "      <td>02</td>\n",
       "      <td>0.0</td>\n",
       "    </tr>\n",
       "    <tr>\n",
       "      <th>6</th>\n",
       "      <td>14.0</td>\n",
       "      <td>s1-league1-game2_02_stac_1360004616</td>\n",
       "      <td>02</td>\n",
       "      <td>0.0</td>\n",
       "    </tr>\n",
       "    <tr>\n",
       "      <th>7</th>\n",
       "      <td>16.0</td>\n",
       "      <td>s1-league1-game2_02_stac_1360064616</td>\n",
       "      <td>02</td>\n",
       "      <td>0.0</td>\n",
       "    </tr>\n",
       "    <tr>\n",
       "      <th>8</th>\n",
       "      <td>18.0</td>\n",
       "      <td>s1-league1-game2_02_stac_1360184616</td>\n",
       "      <td>02</td>\n",
       "      <td>2.0</td>\n",
       "    </tr>\n",
       "    <tr>\n",
       "      <th>9</th>\n",
       "      <td>19.0</td>\n",
       "      <td>s1-league1-game2_03_stac_1359904616</td>\n",
       "      <td>03</td>\n",
       "      <td>0.0</td>\n",
       "    </tr>\n",
       "    <tr>\n",
       "      <th>10</th>\n",
       "      <td>20.0</td>\n",
       "      <td>s1-league1-game2_03_stac_1359984616</td>\n",
       "      <td>03</td>\n",
       "      <td>0.0</td>\n",
       "    </tr>\n",
       "    <tr>\n",
       "      <th>11</th>\n",
       "      <td>27.0</td>\n",
       "      <td>s1-league1-game2_03_stac_1360274616</td>\n",
       "      <td>03</td>\n",
       "      <td>0.0</td>\n",
       "    </tr>\n",
       "    <tr>\n",
       "      <th>12</th>\n",
       "      <td>28.0</td>\n",
       "      <td>s1-league1-game2_03_stac_1360324616</td>\n",
       "      <td>03</td>\n",
       "      <td>0.0</td>\n",
       "    </tr>\n",
       "    <tr>\n",
       "      <th>13</th>\n",
       "      <td>29.0</td>\n",
       "      <td>s1-league1-game2_03_stac_1360374616</td>\n",
       "      <td>03</td>\n",
       "      <td>3.0</td>\n",
       "    </tr>\n",
       "    <tr>\n",
       "      <th>14</th>\n",
       "      <td>34.0</td>\n",
       "      <td>s1-league1-game2_03_stac_1359824617</td>\n",
       "      <td>03</td>\n",
       "      <td>0.0</td>\n",
       "    </tr>\n",
       "    <tr>\n",
       "      <th>15</th>\n",
       "      <td>35.0</td>\n",
       "      <td>s1-league1-game2_04_stac_1359864617</td>\n",
       "      <td>04</td>\n",
       "      <td>0.0</td>\n",
       "    </tr>\n",
       "    <tr>\n",
       "      <th>16</th>\n",
       "      <td>36.0</td>\n",
       "      <td>s1-league1-game2_04_stac_1359914617</td>\n",
       "      <td>04</td>\n",
       "      <td>0.0</td>\n",
       "    </tr>\n",
       "    <tr>\n",
       "      <th>17</th>\n",
       "      <td>38.0</td>\n",
       "      <td>s1-league1-game2_04_stac_1360024617</td>\n",
       "      <td>04</td>\n",
       "      <td>0.0</td>\n",
       "    </tr>\n",
       "    <tr>\n",
       "      <th>18</th>\n",
       "      <td>41.0</td>\n",
       "      <td>s1-league1-game2_04_stac_1360154617</td>\n",
       "      <td>04</td>\n",
       "      <td>0.0</td>\n",
       "    </tr>\n",
       "    <tr>\n",
       "      <th>19</th>\n",
       "      <td>42.0</td>\n",
       "      <td>s1-league1-game2_04_stac_1360274617</td>\n",
       "      <td>04</td>\n",
       "      <td>0.0</td>\n",
       "    </tr>\n",
       "    <tr>\n",
       "      <th>20</th>\n",
       "      <td>44.0</td>\n",
       "      <td>s1-league1-game2_04_stac_1360444618</td>\n",
       "      <td>04</td>\n",
       "      <td>5.0</td>\n",
       "    </tr>\n",
       "    <tr>\n",
       "      <th>21</th>\n",
       "      <td>45.0</td>\n",
       "      <td>s1-league1-game2_04_stac_1360534617</td>\n",
       "      <td>04</td>\n",
       "      <td>6.0</td>\n",
       "    </tr>\n",
       "    <tr>\n",
       "      <th>22</th>\n",
       "      <td>50.0</td>\n",
       "      <td>s1-league1-game2_05_stac_1468416675</td>\n",
       "      <td>05</td>\n",
       "      <td>0.0</td>\n",
       "    </tr>\n",
       "    <tr>\n",
       "      <th>23</th>\n",
       "      <td>52.0</td>\n",
       "      <td>s1-league1-game2_05_stac_1360244617</td>\n",
       "      <td>05</td>\n",
       "      <td>7.0</td>\n",
       "    </tr>\n",
       "    <tr>\n",
       "      <th>24</th>\n",
       "      <td>53.0</td>\n",
       "      <td>s1-league1-game2_06_stac_1359804617</td>\n",
       "      <td>06</td>\n",
       "      <td>0.0</td>\n",
       "    </tr>\n",
       "    <tr>\n",
       "      <th>25</th>\n",
       "      <td>54.0</td>\n",
       "      <td>s1-league1-game2_06_stac_1359894617</td>\n",
       "      <td>06</td>\n",
       "      <td>0.0</td>\n",
       "    </tr>\n",
       "    <tr>\n",
       "      <th>26</th>\n",
       "      <td>55.0</td>\n",
       "      <td>s1-league1-game2_06_stac_1360024617</td>\n",
       "      <td>06</td>\n",
       "      <td>0.0</td>\n",
       "    </tr>\n",
       "    <tr>\n",
       "      <th>27</th>\n",
       "      <td>57.0</td>\n",
       "      <td>s1-league1-game2_06_stac_1360134617</td>\n",
       "      <td>06</td>\n",
       "      <td>0.0</td>\n",
       "    </tr>\n",
       "    <tr>\n",
       "      <th>28</th>\n",
       "      <td>58.0</td>\n",
       "      <td>s1-league1-game2_06_stac_1360224617</td>\n",
       "      <td>06</td>\n",
       "      <td>9.0</td>\n",
       "    </tr>\n",
       "    <tr>\n",
       "      <th>29</th>\n",
       "      <td>59.0</td>\n",
       "      <td>s1-league1-game2_07_stac_1359964617</td>\n",
       "      <td>07</td>\n",
       "      <td>0.0</td>\n",
       "    </tr>\n",
       "    <tr>\n",
       "      <th>30</th>\n",
       "      <td>62.0</td>\n",
       "      <td>s1-league1-game2_07_stac_1360324617</td>\n",
       "      <td>07</td>\n",
       "      <td>11.0</td>\n",
       "    </tr>\n",
       "    <tr>\n",
       "      <th>31</th>\n",
       "      <td>63.0</td>\n",
       "      <td>s1-league1-game2_08_stac_1360154618</td>\n",
       "      <td>08</td>\n",
       "      <td>12.0</td>\n",
       "    </tr>\n",
       "    <tr>\n",
       "      <th>32</th>\n",
       "      <td>64.0</td>\n",
       "      <td>s2-league5-game1_01_stac_1413793019</td>\n",
       "      <td>01</td>\n",
       "      <td>0.0</td>\n",
       "    </tr>\n",
       "    <tr>\n",
       "      <th>33</th>\n",
       "      <td>66.0</td>\n",
       "      <td>s2-league5-game1_01_stac_1413793051</td>\n",
       "      <td>01</td>\n",
       "      <td>0.0</td>\n",
       "    </tr>\n",
       "    <tr>\n",
       "      <th>34</th>\n",
       "      <td>68.0</td>\n",
       "      <td>s2-league5-game1_01_stac_1413793065</td>\n",
       "      <td>01</td>\n",
       "      <td>0.0</td>\n",
       "    </tr>\n",
       "    <tr>\n",
       "      <th>35</th>\n",
       "      <td>69.0</td>\n",
       "      <td>s2-league5-game1_01_stac_1413793109</td>\n",
       "      <td>01</td>\n",
       "      <td>0.0</td>\n",
       "    </tr>\n",
       "    <tr>\n",
       "      <th>36</th>\n",
       "      <td>72.0</td>\n",
       "      <td>s2-league5-game1_01_stac_1413793142</td>\n",
       "      <td>01</td>\n",
       "      <td>0.0</td>\n",
       "    </tr>\n",
       "    <tr>\n",
       "      <th>37</th>\n",
       "      <td>74.0</td>\n",
       "      <td>s2-league5-game1_01_stac_1413793176</td>\n",
       "      <td>01</td>\n",
       "      <td>0.0</td>\n",
       "    </tr>\n",
       "    <tr>\n",
       "      <th>38</th>\n",
       "      <td>75.0</td>\n",
       "      <td>s2-league5-game1_01_stac_1413793207</td>\n",
       "      <td>01</td>\n",
       "      <td>13.0</td>\n",
       "    </tr>\n",
       "    <tr>\n",
       "      <th>39</th>\n",
       "      <td>76.0</td>\n",
       "      <td>s2-league5-game1_02_stac_1413792986</td>\n",
       "      <td>02</td>\n",
       "      <td>0.0</td>\n",
       "    </tr>\n",
       "    <tr>\n",
       "      <th>40</th>\n",
       "      <td>79.0</td>\n",
       "      <td>s2-league5-game1_02_stac_1413793011</td>\n",
       "      <td>02</td>\n",
       "      <td>0.0</td>\n",
       "    </tr>\n",
       "    <tr>\n",
       "      <th>41</th>\n",
       "      <td>82.0</td>\n",
       "      <td>s2-league5-game1_02_stac_1413793026</td>\n",
       "      <td>02</td>\n",
       "      <td>0.0</td>\n",
       "    </tr>\n",
       "    <tr>\n",
       "      <th>42</th>\n",
       "      <td>84.0</td>\n",
       "      <td>s2-league5-game1_02_stac_1413793056</td>\n",
       "      <td>02</td>\n",
       "      <td>0.0</td>\n",
       "    </tr>\n",
       "    <tr>\n",
       "      <th>43</th>\n",
       "      <td>85.0</td>\n",
       "      <td>s2-league5-game1_02_stac_1413793072</td>\n",
       "      <td>02</td>\n",
       "      <td>0.0</td>\n",
       "    </tr>\n",
       "    <tr>\n",
       "      <th>44</th>\n",
       "      <td>88.0</td>\n",
       "      <td>s2-league5-game1_02_stac_1413793088</td>\n",
       "      <td>02</td>\n",
       "      <td>0.0</td>\n",
       "    </tr>\n",
       "    <tr>\n",
       "      <th>45</th>\n",
       "      <td>90.0</td>\n",
       "      <td>s2-league5-game1_02_stac_1413793092</td>\n",
       "      <td>02</td>\n",
       "      <td>0.0</td>\n",
       "    </tr>\n",
       "    <tr>\n",
       "      <th>46</th>\n",
       "      <td>96.0</td>\n",
       "      <td>s2-league5-game1_02_stac_1413793099</td>\n",
       "      <td>02</td>\n",
       "      <td>0.0</td>\n",
       "    </tr>\n",
       "    <tr>\n",
       "      <th>47</th>\n",
       "      <td>99.0</td>\n",
       "      <td>s2-league5-game1_02_stac_1413793112</td>\n",
       "      <td>02</td>\n",
       "      <td>0.0</td>\n",
       "    </tr>\n",
       "    <tr>\n",
       "      <th>48</th>\n",
       "      <td>100.0</td>\n",
       "      <td>s2-league5-game1_02_stac_1413793144</td>\n",
       "      <td>02</td>\n",
       "      <td>0.0</td>\n",
       "    </tr>\n",
       "    <tr>\n",
       "      <th>49</th>\n",
       "      <td>109.0</td>\n",
       "      <td>s2-league5-game1_02_stac_1413793152</td>\n",
       "      <td>02</td>\n",
       "      <td>0.0</td>\n",
       "    </tr>\n",
       "    <tr>\n",
       "      <th>50</th>\n",
       "      <td>113.0</td>\n",
       "      <td>s2-league5-game1_02_stac_1413793214</td>\n",
       "      <td>02</td>\n",
       "      <td>19.0</td>\n",
       "    </tr>\n",
       "    <tr>\n",
       "      <th>51</th>\n",
       "      <td>0.0</td>\n",
       "      <td>s1-league1-game2_04_stac_1360174617</td>\n",
       "      <td>0</td>\n",
       "      <td>4.0</td>\n",
       "    </tr>\n",
       "    <tr>\n",
       "      <th>52</th>\n",
       "      <td>0.0</td>\n",
       "      <td>s1-league1-game2_06_stac_1360114617</td>\n",
       "      <td>0</td>\n",
       "      <td>8.0</td>\n",
       "    </tr>\n",
       "    <tr>\n",
       "      <th>53</th>\n",
       "      <td>0.0</td>\n",
       "      <td>s1-league1-game2_07_stac_1360244617</td>\n",
       "      <td>0</td>\n",
       "      <td>10.0</td>\n",
       "    </tr>\n",
       "    <tr>\n",
       "      <th>54</th>\n",
       "      <td>0.0</td>\n",
       "      <td>s2-league5-game1_02_stac_1413793015</td>\n",
       "      <td>0</td>\n",
       "      <td>14.0</td>\n",
       "    </tr>\n",
       "    <tr>\n",
       "      <th>55</th>\n",
       "      <td>0.0</td>\n",
       "      <td>s2-league5-game1_02_stac_1413793042</td>\n",
       "      <td>0</td>\n",
       "      <td>15.0</td>\n",
       "    </tr>\n",
       "    <tr>\n",
       "      <th>56</th>\n",
       "      <td>0.0</td>\n",
       "      <td>s2-league5-game1_02_stac_1413793085</td>\n",
       "      <td>0</td>\n",
       "      <td>16.0</td>\n",
       "    </tr>\n",
       "    <tr>\n",
       "      <th>57</th>\n",
       "      <td>0.0</td>\n",
       "      <td>s2-league5-game1_02_stac_1413793178</td>\n",
       "      <td>0</td>\n",
       "      <td>17.0</td>\n",
       "    </tr>\n",
       "    <tr>\n",
       "      <th>58</th>\n",
       "      <td>0.0</td>\n",
       "      <td>s2-league5-game1_02_stac_1413793211</td>\n",
       "      <td>0</td>\n",
       "      <td>18.0</td>\n",
       "    </tr>\n",
       "  </tbody>\n",
       "</table>\n",
       "</div>"
      ],
      "text/plain": [
       "    dialogue_situ                               seg_id subdoc  dialogue\n",
       "0             1.0  s1-league1-game2_01_stac_1360024616     01       0.0\n",
       "1             5.0  s1-league1-game2_01_stac_1360224616     01       0.0\n",
       "2             9.0  s1-league1-game2_01_stac_1360354616     01       0.0\n",
       "3            10.0  s1-league1-game2_01_stac_1360444616     01       1.0\n",
       "4            12.0  s1-league1-game2_02_stac_1468416660     02       0.0\n",
       "5            13.0  s1-league1-game2_02_stac_1359934616     02       0.0\n",
       "6            14.0  s1-league1-game2_02_stac_1360004616     02       0.0\n",
       "7            16.0  s1-league1-game2_02_stac_1360064616     02       0.0\n",
       "8            18.0  s1-league1-game2_02_stac_1360184616     02       2.0\n",
       "9            19.0  s1-league1-game2_03_stac_1359904616     03       0.0\n",
       "10           20.0  s1-league1-game2_03_stac_1359984616     03       0.0\n",
       "11           27.0  s1-league1-game2_03_stac_1360274616     03       0.0\n",
       "12           28.0  s1-league1-game2_03_stac_1360324616     03       0.0\n",
       "13           29.0  s1-league1-game2_03_stac_1360374616     03       3.0\n",
       "14           34.0  s1-league1-game2_03_stac_1359824617     03       0.0\n",
       "15           35.0  s1-league1-game2_04_stac_1359864617     04       0.0\n",
       "16           36.0  s1-league1-game2_04_stac_1359914617     04       0.0\n",
       "17           38.0  s1-league1-game2_04_stac_1360024617     04       0.0\n",
       "18           41.0  s1-league1-game2_04_stac_1360154617     04       0.0\n",
       "19           42.0  s1-league1-game2_04_stac_1360274617     04       0.0\n",
       "20           44.0  s1-league1-game2_04_stac_1360444618     04       5.0\n",
       "21           45.0  s1-league1-game2_04_stac_1360534617     04       6.0\n",
       "22           50.0  s1-league1-game2_05_stac_1468416675     05       0.0\n",
       "23           52.0  s1-league1-game2_05_stac_1360244617     05       7.0\n",
       "24           53.0  s1-league1-game2_06_stac_1359804617     06       0.0\n",
       "25           54.0  s1-league1-game2_06_stac_1359894617     06       0.0\n",
       "26           55.0  s1-league1-game2_06_stac_1360024617     06       0.0\n",
       "27           57.0  s1-league1-game2_06_stac_1360134617     06       0.0\n",
       "28           58.0  s1-league1-game2_06_stac_1360224617     06       9.0\n",
       "29           59.0  s1-league1-game2_07_stac_1359964617     07       0.0\n",
       "30           62.0  s1-league1-game2_07_stac_1360324617     07      11.0\n",
       "31           63.0  s1-league1-game2_08_stac_1360154618     08      12.0\n",
       "32           64.0  s2-league5-game1_01_stac_1413793019     01       0.0\n",
       "33           66.0  s2-league5-game1_01_stac_1413793051     01       0.0\n",
       "34           68.0  s2-league5-game1_01_stac_1413793065     01       0.0\n",
       "35           69.0  s2-league5-game1_01_stac_1413793109     01       0.0\n",
       "36           72.0  s2-league5-game1_01_stac_1413793142     01       0.0\n",
       "37           74.0  s2-league5-game1_01_stac_1413793176     01       0.0\n",
       "38           75.0  s2-league5-game1_01_stac_1413793207     01      13.0\n",
       "39           76.0  s2-league5-game1_02_stac_1413792986     02       0.0\n",
       "40           79.0  s2-league5-game1_02_stac_1413793011     02       0.0\n",
       "41           82.0  s2-league5-game1_02_stac_1413793026     02       0.0\n",
       "42           84.0  s2-league5-game1_02_stac_1413793056     02       0.0\n",
       "43           85.0  s2-league5-game1_02_stac_1413793072     02       0.0\n",
       "44           88.0  s2-league5-game1_02_stac_1413793088     02       0.0\n",
       "45           90.0  s2-league5-game1_02_stac_1413793092     02       0.0\n",
       "46           96.0  s2-league5-game1_02_stac_1413793099     02       0.0\n",
       "47           99.0  s2-league5-game1_02_stac_1413793112     02       0.0\n",
       "48          100.0  s2-league5-game1_02_stac_1413793144     02       0.0\n",
       "49          109.0  s2-league5-game1_02_stac_1413793152     02       0.0\n",
       "50          113.0  s2-league5-game1_02_stac_1413793214     02      19.0\n",
       "51            0.0  s1-league1-game2_04_stac_1360174617      0       4.0\n",
       "52            0.0  s1-league1-game2_06_stac_1360114617      0       8.0\n",
       "53            0.0  s1-league1-game2_07_stac_1360244617      0      10.0\n",
       "54            0.0  s2-league5-game1_02_stac_1413793015      0      14.0\n",
       "55            0.0  s2-league5-game1_02_stac_1413793042      0      15.0\n",
       "56            0.0  s2-league5-game1_02_stac_1413793085      0      16.0\n",
       "57            0.0  s2-league5-game1_02_stac_1413793178      0      17.0\n",
       "58            0.0  s2-league5-game1_02_stac_1413793211      0      18.0"
      ]
     },
     "execution_count": 202,
     "metadata": {},
     "output_type": "execute_result"
    }
   ],
   "source": [
    "merged_table"
   ]
  },
  {
   "cell_type": "code",
   "execution_count": 203,
   "metadata": {},
   "outputs": [],
   "source": [
    "merged = [[x[0], x[3]] for x in merged_table.values]"
   ]
  },
  {
   "cell_type": "code",
   "execution_count": 204,
   "metadata": {},
   "outputs": [
    {
     "data": {
      "text/plain": [
       "[[1.0, 0.0],\n",
       " [5.0, 0.0],\n",
       " [9.0, 0.0],\n",
       " [10.0, 1.0],\n",
       " [12.0, 0.0],\n",
       " [13.0, 0.0],\n",
       " [14.0, 0.0],\n",
       " [16.0, 0.0],\n",
       " [18.0, 2.0],\n",
       " [19.0, 0.0],\n",
       " [20.0, 0.0],\n",
       " [27.0, 0.0],\n",
       " [28.0, 0.0],\n",
       " [29.0, 3.0],\n",
       " [34.0, 0.0],\n",
       " [35.0, 0.0],\n",
       " [36.0, 0.0],\n",
       " [38.0, 0.0],\n",
       " [41.0, 0.0],\n",
       " [42.0, 0.0],\n",
       " [44.0, 5.0],\n",
       " [45.0, 6.0],\n",
       " [50.0, 0.0],\n",
       " [52.0, 7.0],\n",
       " [53.0, 0.0],\n",
       " [54.0, 0.0],\n",
       " [55.0, 0.0],\n",
       " [57.0, 0.0],\n",
       " [58.0, 9.0],\n",
       " [59.0, 0.0],\n",
       " [62.0, 11.0],\n",
       " [63.0, 12.0],\n",
       " [64.0, 0.0],\n",
       " [66.0, 0.0],\n",
       " [68.0, 0.0],\n",
       " [69.0, 0.0],\n",
       " [72.0, 0.0],\n",
       " [74.0, 0.0],\n",
       " [75.0, 13.0],\n",
       " [76.0, 0.0],\n",
       " [79.0, 0.0],\n",
       " [82.0, 0.0],\n",
       " [84.0, 0.0],\n",
       " [85.0, 0.0],\n",
       " [88.0, 0.0],\n",
       " [90.0, 0.0],\n",
       " [96.0, 0.0],\n",
       " [99.0, 0.0],\n",
       " [100.0, 0.0],\n",
       " [109.0, 0.0],\n",
       " [113.0, 19.0],\n",
       " [0.0, 4.0],\n",
       " [0.0, 8.0],\n",
       " [0.0, 10.0],\n",
       " [0.0, 14.0],\n",
       " [0.0, 15.0],\n",
       " [0.0, 16.0],\n",
       " [0.0, 17.0],\n",
       " [0.0, 18.0]]"
      ]
     },
     "execution_count": 204,
     "metadata": {},
     "output_type": "execute_result"
    }
   ],
   "source": [
    "merged"
   ]
  },
  {
   "cell_type": "code",
   "execution_count": null,
   "metadata": {},
   "outputs": [],
   "source": [
    "#every time you have a case where there is both a situ and a spect dialogue, spe"
   ]
  },
  {
   "cell_type": "code",
   "execution_count": 222,
   "metadata": {},
   "outputs": [
    {
     "name": "stdout",
     "output_type": "stream",
     "text": [
      "12\n",
      "20\n",
      "114\n"
     ]
    }
   ],
   "source": [
    "# subdoc = '01'\n",
    "# superdoc = None\n",
    "# superdoc_dict = {}\n",
    "\n",
    "# for m in merged:\n",
    "#     subdoc = m[1]\n",
    "#     if m[0] != 0 and m[2] != 0:\n",
    "#         #then this is a situation where the the dialogues m[0] and m[2] linguistically match\n",
    "#         #this subdoc = superdoc \n",
    "        \n",
    "#cut list into lists where m[0] !=0 and m[2]!= 0\n",
    "\n",
    "superdoc = 1\n",
    "spect_dict = {}\n",
    "situ_dict = {}\n",
    "spect_last = 1\n",
    "situ_last = 1\n",
    "\n",
    "for m in merged:\n",
    "    if m[0] != 0 and m[1] != 0:\n",
    "        for n in range(situ_last, int(m[0]) + 1):\n",
    "            situ_dict[n] = superdoc\n",
    "        situ_last = int(m[0]) + 1\n",
    "        for n in range(spect_last, int(m[1]) + 1):\n",
    "            spect_dict[n] = superdoc\n",
    "        spect_last = int(m[1]) + 1\n",
    "        superdoc += 1\n",
    "print(superdoc)\n",
    "print(spect_last)\n",
    "print(situ_last)\n",
    "#get last dialogue numbers for both spect and situ and add last entries to dict \n",
    "for n in range(situ_last, situ_last_dialogue + 1):\n",
    "    situ_dict[n] = superdoc - 1\n",
    "    \n",
    "for n in range(spect_last, spect_last_dialogue + 1):\n",
    "    spect_dict[n] = superdoc - 1"
   ]
  },
  {
   "cell_type": "code",
   "execution_count": 223,
   "metadata": {},
   "outputs": [
    {
     "data": {
      "text/plain": [
       "{1: 1,\n",
       " 2: 2,\n",
       " 3: 3,\n",
       " 4: 4,\n",
       " 5: 4,\n",
       " 6: 5,\n",
       " 7: 6,\n",
       " 8: 7,\n",
       " 9: 7,\n",
       " 10: 8,\n",
       " 11: 8,\n",
       " 12: 9,\n",
       " 13: 10,\n",
       " 14: 11,\n",
       " 15: 11,\n",
       " 16: 11,\n",
       " 17: 11,\n",
       " 18: 11,\n",
       " 19: 11,\n",
       " 20: 11}"
      ]
     },
     "execution_count": 223,
     "metadata": {},
     "output_type": "execute_result"
    }
   ],
   "source": [
    "spect_dict"
   ]
  },
  {
   "cell_type": "code",
   "execution_count": 206,
   "metadata": {},
   "outputs": [
    {
     "data": {
      "text/plain": [
       "[[[1.0, 0.0], [5.0, 0.0], [9.0, 0.0], [10.0, 1.0]],\n",
       " [[12.0, 0.0], [13.0, 0.0], [14.0, 0.0], [16.0, 0.0], [18.0, 2.0]],\n",
       " [[19.0, 0.0], [20.0, 0.0], [27.0, 0.0], [28.0, 0.0], [29.0, 3.0]],\n",
       " [[34.0, 0.0],\n",
       "  [35.0, 0.0],\n",
       "  [36.0, 0.0],\n",
       "  [38.0, 0.0],\n",
       "  [41.0, 0.0],\n",
       "  [42.0, 0.0],\n",
       "  [44.0, 5.0]],\n",
       " [[45.0, 6.0]],\n",
       " [[50.0, 0.0], [52.0, 7.0]],\n",
       " [[53.0, 0.0], [54.0, 0.0], [55.0, 0.0], [57.0, 0.0], [58.0, 9.0]],\n",
       " [[59.0, 0.0], [62.0, 11.0]],\n",
       " [[63.0, 12.0]],\n",
       " [[64.0, 0.0],\n",
       "  [66.0, 0.0],\n",
       "  [68.0, 0.0],\n",
       "  [69.0, 0.0],\n",
       "  [72.0, 0.0],\n",
       "  [74.0, 0.0],\n",
       "  [75.0, 13.0]],\n",
       " [[76.0, 0.0],\n",
       "  [79.0, 0.0],\n",
       "  [82.0, 0.0],\n",
       "  [84.0, 0.0],\n",
       "  [85.0, 0.0],\n",
       "  [88.0, 0.0],\n",
       "  [90.0, 0.0],\n",
       "  [96.0, 0.0],\n",
       "  [99.0, 0.0],\n",
       "  [100.0, 0.0],\n",
       "  [109.0, 0.0],\n",
       "  [113.0, 19.0]]]"
      ]
     },
     "execution_count": 206,
     "metadata": {},
     "output_type": "execute_result"
    }
   ],
   "source": [
    "big_list"
   ]
  },
  {
   "cell_type": "code",
   "execution_count": null,
   "metadata": {
    "collapsed": true
   },
   "outputs": [],
   "source": [
    "#change dialogue column to ints\n",
    "#change nan to null\n",
    "#change table to list of lists"
   ]
  },
  {
   "cell_type": "code",
   "execution_count": 149,
   "metadata": {
    "collapsed": true
   },
   "outputs": [],
   "source": [
    "\n",
    "nodes_dict = {}\n",
    "for s in segs:\n",
    "\n",
    "    #check if game in dict\n",
    "    if s[1] in nodes_dict.keys():\n",
    "        #check if subdoc in dict\n",
    "        if s[2] in nodes_dict[s[1]].keys():\n",
    "            if s[7] in nodes_dict[s[1]][s[2]].keys():\n",
    "                nodes_dict[s[1]][s[2]][s[7]][s[5]].append((s[0], s[3], s[4]))\n",
    "            else:\n",
    "                nodes_dict[s[1]][s[2]][s[7]] = defaultdict(list)\n",
    "                nodes_dict[s[1]][s[2]][s[7]][s[5]].append((s[0], s[3], s[4]))        \n",
    "        else:\n",
    "            #add list dict for subdocs\n",
    "            nodes_dict[s[1]][s[2]]= OrderedDict()\n",
    "            nodes_dict[s[1]][s[2]][s[7]]= defaultdict(list)\n",
    "            nodes_dict[s[1]][s[2]][s[7]][s[5]].append((s[0], s[3], s[4]))\n",
    "            \n",
    "    else:\n",
    "        #add list dict for games\n",
    "        nodes_dict[s[1]] = OrderedDict()\n",
    "        nodes_dict[s[1]][s[2]]= OrderedDict()\n",
    "        \n",
    "        nodes_dict[s[1]][s[2]][s[7]]= defaultdict(list)\n",
    "        nodes_dict[s[1]][s[2]][s[7]][s[5]].append((s[0], s[3], s[4]))\n",
    "        "
   ]
  },
  {
   "cell_type": "code",
   "execution_count": null,
   "metadata": {
    "collapsed": true
   },
   "outputs": [],
   "source": [
    "nodes_dict['pilot14']['10'].keys()"
   ]
  },
  {
   "cell_type": "code",
   "execution_count": null,
   "metadata": {
    "collapsed": true
   },
   "outputs": [],
   "source": [
    "nodes_dict['pilot14']['10']['pilot14_10_stacutil_1486375772'][532]"
   ]
  },
  {
   "cell_type": "code",
   "execution_count": null,
   "metadata": {
    "collapsed": true
   },
   "outputs": [],
   "source": [
    "output = open('nodes.pkl', 'wb')\n",
    "pickle.dump(nodes_dict, output)\n",
    "output.close()"
   ]
  },
  {
   "cell_type": "code",
   "execution_count": null,
   "metadata": {
    "collapsed": true
   },
   "outputs": [],
   "source": [
    "import os\n",
    "import glob\n",
    "import re"
   ]
  },
  {
   "cell_type": "code",
   "execution_count": null,
   "metadata": {
    "collapsed": true
   },
   "outputs": [],
   "source": [
    "pwd"
   ]
  },
  {
   "cell_type": "code",
   "execution_count": null,
   "metadata": {
    "collapsed": true
   },
   "outputs": [],
   "source": [
    "current_dir= os.getcwd()"
   ]
  },
  {
   "cell_type": "code",
   "execution_count": null,
   "metadata": {
    "collapsed": true
   },
   "outputs": [],
   "source": [
    "if not os.path.exists(current_dir + '/stac_game_graphs/'):\n",
    "        os.makedirs(current_dir + '/stac_game_graphs/')"
   ]
  },
  {
   "cell_type": "code",
   "execution_count": null,
   "metadata": {
    "collapsed": true
   },
   "outputs": [],
   "source": [
    "ls"
   ]
  },
  {
   "cell_type": "code",
   "execution_count": null,
   "metadata": {
    "collapsed": true
   },
   "outputs": [],
   "source": [
    "current_dir"
   ]
  },
  {
   "cell_type": "code",
   "execution_count": null,
   "metadata": {
    "collapsed": true
   },
   "outputs": [],
   "source": [
    "[x for x in os.walk(current_dir + '/stac_game_graphs/pilot02/')][0]"
   ]
  },
  {
   "cell_type": "code",
   "execution_count": null,
   "metadata": {
    "collapsed": true
   },
   "outputs": [],
   "source": [
    "filesDepth3 = glob.glob('*/*')\n",
    "dirsDepth3 = filter(lambda f: os.path.isdir(current_dir + '/stac_game_graphs/pilot02/'), filesDepth3)"
   ]
  },
  {
   "cell_type": "code",
   "execution_count": null,
   "metadata": {
    "collapsed": true
   },
   "outputs": [],
   "source": [
    "dirsDepth3"
   ]
  },
  {
   "cell_type": "code",
   "execution_count": null,
   "metadata": {
    "collapsed": true
   },
   "outputs": [],
   "source": [
    "current_dir"
   ]
  },
  {
   "cell_type": "code",
   "execution_count": null,
   "metadata": {
    "collapsed": true
   },
   "outputs": [],
   "source": [
    "tups = [['2_4', 'a-'], ['s-4', 'b_'], ['4_-', '-']]"
   ]
  },
  {
   "cell_type": "code",
   "execution_count": null,
   "metadata": {
    "collapsed": true
   },
   "outputs": [],
   "source": [
    "tups"
   ]
  },
  {
   "cell_type": "code",
   "execution_count": null,
   "metadata": {
    "collapsed": true
   },
   "outputs": [],
   "source": [
    "for t in tups:\n",
    "    t[0] = re.sub('-', '_', t[0])"
   ]
  },
  {
   "cell_type": "code",
   "execution_count": null,
   "metadata": {
    "collapsed": true
   },
   "outputs": [],
   "source": [
    "tups"
   ]
  },
  {
   "cell_type": "code",
   "execution_count": null,
   "metadata": {
    "collapsed": true
   },
   "outputs": [],
   "source": []
  },
  {
   "cell_type": "code",
   "execution_count": null,
   "metadata": {
    "collapsed": true
   },
   "outputs": [],
   "source": []
  }
 ],
 "metadata": {
  "kernelspec": {
   "display_name": "Python 2",
   "language": "python",
   "name": "python2"
  },
  "language_info": {
   "codemirror_mode": {
    "name": "ipython",
    "version": 2
   },
   "file_extension": ".py",
   "mimetype": "text/x-python",
   "name": "python",
   "nbconvert_exporter": "python",
   "pygments_lexer": "ipython2",
   "version": "2.7.12"
  }
 },
 "nbformat": 4,
 "nbformat_minor": 2
}
